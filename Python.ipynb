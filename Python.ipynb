{
  "nbformat": 4,
  "nbformat_minor": 0,
  "metadata": {
    "colab": {
      "private_outputs": true,
      "provenance": [],
      "authorship_tag": "ABX9TyOGItHl1O6peCS+bsMKJJr9",
      "include_colab_link": true
    },
    "kernelspec": {
      "name": "python3",
      "display_name": "Python 3"
    },
    "language_info": {
      "name": "python"
    },
    "accelerator": "TPU"
  },
  "cells": [
    {
      "cell_type": "markdown",
      "metadata": {
        "id": "view-in-github",
        "colab_type": "text"
      },
      "source": [
        "<a href=\"https://colab.research.google.com/github/yogeshkasar778/yogeshkasar778/blob/main/Python.ipynb\" target=\"_parent\"><img src=\"https://colab.research.google.com/assets/colab-badge.svg\" alt=\"Open In Colab\"/></a>"
      ]
    },
    {
      "cell_type": "markdown",
      "source": [
        "#**PYTHON**"
      ],
      "metadata": {
        "id": "1KuGVK-8bwEH"
      }
    },
    {
      "cell_type": "markdown",
      "source": [
        "#**sets**"
      ],
      "metadata": {
        "id": "qByd_f48Igmi"
      }
    },
    {
      "cell_type": "code",
      "execution_count": null,
      "metadata": {
        "id": "0679E3xMFcUQ"
      },
      "outputs": [],
      "source": [
        "myset={1,2,3}\n",
        "myset={1,2,3,3}\n",
        "print(myset)"
      ]
    },
    {
      "cell_type": "code",
      "source": [
        "myset1={1,2,'c'}\n",
        "myset2={1,'b','c'}\n",
        "myset1|myset2"
      ],
      "metadata": {
        "id": "Qh3X_lmdFkLq"
      },
      "execution_count": null,
      "outputs": []
    },
    {
      "cell_type": "code",
      "source": [
        "set1=set(\"geeksforgeeks\")\n",
        "print(set1)"
      ],
      "metadata": {
        "id": "dgFt5uUNFkOh"
      },
      "execution_count": null,
      "outputs": []
    },
    {
      "cell_type": "code",
      "source": [
        "string='yogesh'\n",
        "set1=set(string)\n",
        "print(set1)"
      ],
      "metadata": {
        "id": "_kw_2HyCFkRj"
      },
      "execution_count": null,
      "outputs": []
    },
    {
      "cell_type": "code",
      "source": [
        "set1=set([1,2,3,4,5,6])\n",
        "print(set1)"
      ],
      "metadata": {
        "id": "unMmBgzdFkTx"
      },
      "execution_count": null,
      "outputs": []
    },
    {
      "cell_type": "code",
      "source": [
        "set1=set()\n",
        "print(set1)\n",
        "set1.add(8)\n",
        "set1.add(9)\n",
        "print(set1)\n",
        "for i in range(1,6):\n",
        "  set1.add(i)\n",
        "print(set1)"
      ],
      "metadata": {
        "id": "oypxlijeFkXJ"
      },
      "execution_count": null,
      "outputs": []
    },
    {
      "cell_type": "code",
      "source": [
        "set1.update([10,12])\n",
        "print(set1)"
      ],
      "metadata": {
        "id": "0wBonSEsPjJz"
      },
      "execution_count": null,
      "outputs": []
    },
    {
      "cell_type": "code",
      "source": [
        "set1=set([\"geeks\",\"for\",\"geeks\"])\n",
        "print(set1)\n",
        "for i in set1:\n",
        " print(i,end=\" \")\n",
        "print(\"geek\"in set1)"
      ],
      "metadata": {
        "id": "Qa85ncTtPjMg"
      },
      "execution_count": null,
      "outputs": []
    },
    {
      "cell_type": "code",
      "source": [
        "string=('y','o','g','e','s','h')\n",
        "fset1=frozenset(string)\n",
        "print(fset1)\n",
        "print(frozenset())"
      ],
      "metadata": {
        "id": "xfNYmSVtPjPI"
      },
      "execution_count": null,
      "outputs": []
    },
    {
      "cell_type": "markdown",
      "source": [
        "#conditional statement"
      ],
      "metadata": {
        "id": "5knzJLYqK_NU"
      }
    },
    {
      "cell_type": "code",
      "source": [
        "i=10\n",
        "if(i>15):\n",
        "  print(\"10 is less than 15\")\n",
        "print(\"15 is greater than 10\")"
      ],
      "metadata": {
        "id": "CPTgIzctLHiL"
      },
      "execution_count": null,
      "outputs": []
    },
    {
      "cell_type": "code",
      "source": [
        "i=20 #if-else\n",
        "if(i<15):\n",
        "  print(\"i is smaller than 15\")\n",
        "else:\n",
        "  print(\"i is greater than 15\")"
      ],
      "metadata": {
        "id": "Fj5rvExWLHlG"
      },
      "execution_count": null,
      "outputs": []
    },
    {
      "cell_type": "code",
      "source": [
        "x=25\n",
        "if(x<20):\n",
        "  print(\"x is less than 20\")\n",
        "elif(x==20):\n",
        "  print(\"x is equal 20\")\n",
        "else:\n",
        "  print(\"x is greater than 20\")"
      ],
      "metadata": {
        "id": "BOSQ-HXULHn9"
      },
      "execution_count": null,
      "outputs": []
    },
    {
      "cell_type": "code",
      "source": [
        "x=10\n",
        "if(x<20):\n",
        "  print(\"x is less than 20\")\n",
        "  if(x<15):\n",
        "    print(\"x is less than 15\")\n",
        "  else:\n",
        "    print(\"x is greater than 15\")\n",
        "else:\n",
        "  print(\"x is greater than 20\")"
      ],
      "metadata": {
        "id": "tXpH6g6lLHqc"
      },
      "execution_count": null,
      "outputs": []
    },
    {
      "cell_type": "code",
      "source": [
        " #elif statement\n",
        "marks=85\n",
        "if(marks>=90):\n",
        "  print(\"grade is A\")\n",
        "elif(marks>=80):\n",
        "    print(\"grade is B\")\n",
        "else:\n",
        "  print(\"grade is c\")  "
      ],
      "metadata": {
        "id": "TC-W9XC-LHsx"
      },
      "execution_count": null,
      "outputs": []
    },
    {
      "cell_type": "code",
      "source": [
        "#checking the odd number\n",
        "num=int(input(\"entre the number\"))\n",
        "if(num%2)==0:\n",
        "  print(\"the number is even\")\n",
        "else:\n",
        "  print(\"the number is odd\")"
      ],
      "metadata": {
        "id": "xh74c5m2LHvR"
      },
      "execution_count": null,
      "outputs": []
    },
    {
      "cell_type": "markdown",
      "source": [
        "#looping statement\n",
        "\n"
      ],
      "metadata": {
        "id": "qFhnx9tH0tfy"
      }
    },
    {
      "cell_type": "code",
      "source": [
        "#for loop-\n",
        "fruits=[\"apple\",\"banana\",\"cherry\"]\n",
        "for x in fruits:\n",
        "  print(x)"
      ],
      "metadata": {
        "id": "nnEpGCOiLHxc"
      },
      "execution_count": null,
      "outputs": []
    },
    {
      "cell_type": "code",
      "source": [
        "for i in range (0,10):\n",
        "  print(i)"
      ],
      "metadata": {
        "id": "LDFHfRigLHz1"
      },
      "execution_count": null,
      "outputs": []
    },
    {
      "cell_type": "code",
      "source": [
        "#while loop\n",
        "a=1\n",
        "while (a<5):\n",
        "  print(a)\n",
        "  a+=2\n",
        "\n",
        "count=0\n",
        "while(count<3):\n",
        "  count=count+1\n",
        "  print((\"hello\"))"
      ],
      "metadata": {
        "id": "OOlllV971IMy"
      },
      "execution_count": null,
      "outputs": []
    },
    {
      "cell_type": "markdown",
      "source": [
        "#hands on looping statement\n"
      ],
      "metadata": {
        "id": "w1r81eARLPr_"
      }
    },
    {
      "cell_type": "code",
      "source": [
        "#comprehention\n",
        "'''num=[x for x in range(0,10)]\n",
        "for x in num:\n",
        "  print (x, end=\", \")'''\n",
        "for x in range(0,10):\n",
        "   print(x, end=\", \")"
      ],
      "metadata": {
        "id": "552jnab-1IO6"
      },
      "execution_count": null,
      "outputs": []
    },
    {
      "cell_type": "code",
      "source": [
        "for x in range (0,10):\n",
        "  if(x==5):\n",
        "    #break\n",
        "    continue \n",
        "  print(x,end=\",\")\n"
      ],
      "metadata": {
        "id": "XPnWx3rH1IQ6"
      },
      "execution_count": null,
      "outputs": []
    },
    {
      "cell_type": "code",
      "source": [
        "a=10\n",
        "while a!=0:\n",
        "  print(a)\n",
        "  a-=1"
      ],
      "metadata": {
        "id": "h4szc8Vj1ITp"
      },
      "execution_count": null,
      "outputs": []
    },
    {
      "cell_type": "code",
      "source": [
        "num=[x for x in range(0,10)]\n",
        "index=0\n",
        "while index < len(num):\n",
        "  print(num[index],end=\",\")\n",
        "  index+=1\n",
        "print(\"done\")\n"
      ],
      "metadata": {
        "id": "RPC9D13T1Ia3"
      },
      "execution_count": null,
      "outputs": []
    },
    {
      "cell_type": "code",
      "source": [
        "#printing the multiplication table of a given number\n",
        "num=int(input(\"entre the number\"))\n",
        "for i in range(1,11):\n",
        "   print(num,'X',i,'=',num*i)\n",
        "   "
      ],
      "metadata": {
        "id": "eH-Qxtip3w3V"
      },
      "execution_count": null,
      "outputs": []
    },
    {
      "cell_type": "markdown",
      "source": [
        "#Creating funtion"
      ],
      "metadata": {
        "id": "tdp2Hizi7GtM"
      }
    },
    {
      "cell_type": "code",
      "source": [
        "#user defined funtion\n",
        "def find_max():\n",
        "  result=num[0]\n",
        "  for x in nums:\n",
        "    if x > result:\n",
        "      result=x\n",
        "  return result"
      ],
      "metadata": {
        "id": "cKShh4Oy7ENG"
      },
      "execution_count": null,
      "outputs": []
    },
    {
      "cell_type": "markdown",
      "source": [
        "#python class- 1-oct (lecture 3)"
      ],
      "metadata": {
        "id": "IqkT6vKZ9VJT"
      }
    },
    {
      "cell_type": "code",
      "source": [
        "#create a python if-else code-6\n",
        "a= int(input(\"entre the choice1:\"))\n",
        "b= int (input(\"entre the choice2:\"))\n",
        "if a>b:\n",
        "  print(\"Greater number is\", a)\n",
        "elif a==b:\n",
        "  print(\"equal\")\n",
        "else:\n",
        "  print(\"greater number is\",b)"
      ],
      "metadata": {
        "id": "6ovUk2WDPjRq"
      },
      "execution_count": null,
      "outputs": []
    },
    {
      "cell_type": "code",
      "source": [
        "n=eval(input(\"entre number\"))\n",
        "res=0\n",
        "temp=n #temperalay\n",
        "while(n!=0):\n",
        "  rem=n%10\n",
        "  res=res+rem*rem*rem\n",
        "  n=n//10\n",
        "if(temp==res):\n",
        "  print(\"it's armstrong number\")\n",
        "else:\n",
        "  print(\"it's not armstrong number\")"
      ],
      "metadata": {
        "id": "bJoyoJxSPjWU"
      },
      "execution_count": null,
      "outputs": []
    },
    {
      "cell_type": "code",
      "source": [
        "#prime number code using of flag variable\n",
        "a=eval(input(\"entre the number\"))\n",
        "flag= True\n",
        "if a>1:\n",
        " for i in range(2,a):\n",
        "  if(a%i==0):\n",
        "    flag= False\n",
        "    break\n",
        "\n",
        "if flag:\n",
        "  print(\"prime number\")\n",
        "else:\n",
        "  print(\"not a prime number\")"
      ],
      "metadata": {
        "id": "SqMxqa3wPjZx"
      },
      "execution_count": null,
      "outputs": []
    },
    {
      "cell_type": "code",
      "source": [
        "#using is else statement\n",
        "a=int(input(\"entre the number\"))\n",
        "if a > 1:\n",
        "   for i in range(2,int (a/2)+1):\n",
        "       if (a % i) == 0:\n",
        "           print(\"is not a prime number\")\n",
        "           break\n",
        "   else:\n",
        "       print(\" prime number\")\n",
        "       \n",
        "else:\n",
        "   print(\"not a prime number\")"
      ],
      "metadata": {
        "id": "mr44v7H9Qj4D"
      },
      "execution_count": null,
      "outputs": []
    },
    {
      "cell_type": "code",
      "source": [
        "from random import choice\n",
        "#create a claculatore code program for addition, subtraction, multiplication and floor division\n",
        "def addition(a,b):\n",
        "    return a+b\n",
        "def subtraction(a,b):\n",
        "    return a-b\n",
        "def multiplication(a,b):\n",
        "    return a*b\n",
        "def divide(a,b):\n",
        "    return a/b\n",
        "a=int(input(\"entre first number\"))\n",
        "b=int(input(\"entre second number\"))\n",
        "choice=int(input(\"1=addition\\n2=subtractiion\\n3=multiplication\\n4=division\\nEntre your choice\"))\n",
        "if(choice==1):\n",
        "  print(addition(a,b))\n",
        "elif(choice==2):\n",
        "  print(subtraction(a,b))\n",
        "elif(choice==3):\n",
        "  print(multiplication(a,b))\n",
        "elif(choice==4):\n",
        "  print(divide(a,b))\n",
        "else:\n",
        "  print(\"wrong choice\")"
      ],
      "metadata": {
        "id": "P4HMzSWpQj67"
      },
      "execution_count": null,
      "outputs": []
    },
    {
      "cell_type": "code",
      "source": [
        "#create a simple dictionary \n",
        "d={\"key1\":[1,2,[3,4]],\"key\":[4,5,[6,7]]}\n",
        "d"
      ],
      "metadata": {
        "id": "3Q6xBbWKQj9s"
      },
      "execution_count": null,
      "outputs": []
    },
    {
      "cell_type": "code",
      "source": [
        "#ctreat sets\n",
        "myset={1,2,3}\n",
        "myset={1,2,3,3}\n",
        "print(myset)\n",
        "myset1={1,2,'c'}\n",
        "myset2={1,'b','c'}\n",
        "myset1|myset2"
      ],
      "metadata": {
        "id": "Arvcb8poQkGF"
      },
      "execution_count": null,
      "outputs": []
    },
    {
      "cell_type": "code",
      "source": [
        "set1={1,2,3,4,7,9}\n",
        "print(set1)\n",
        "set2={1,2,3,4,5,6}\n",
        "print(set2)\n",
        "print(set1.union(set2))\n",
        "print(set1.intersection(set2))"
      ],
      "metadata": {
        "id": "e6YKdndniM99"
      },
      "execution_count": null,
      "outputs": []
    },
    {
      "cell_type": "code",
      "source": [
        "tuple(d.items())"
      ],
      "metadata": {
        "id": "gDY_auJIiNB1"
      },
      "execution_count": null,
      "outputs": []
    },
    {
      "cell_type": "code",
      "source": [
        "t1=('yogesh')\n",
        "t2=('kasar')\n",
        "t3=(t1,t2)\n",
        "print(t3)\n"
      ],
      "metadata": {
        "id": "J0ZYvK7xiNFk"
      },
      "execution_count": null,
      "outputs": []
    },
    {
      "cell_type": "code",
      "source": [
        "l=list(range(0,51,2))\n",
        "print(l)"
      ],
      "metadata": {
        "id": "6rFjArbdiNJD"
      },
      "execution_count": null,
      "outputs": []
    },
    {
      "cell_type": "code",
      "source": [
        "print(len(l))"
      ],
      "metadata": {
        "id": "z8gIsUO9kv_b"
      },
      "execution_count": null,
      "outputs": []
    },
    {
      "cell_type": "code",
      "source": [
        "l.index(44)"
      ],
      "metadata": {
        "id": "qld6DLn5kwC7"
      },
      "execution_count": null,
      "outputs": []
    },
    {
      "cell_type": "code",
      "source": [
        "l[3]=100\n",
        "print(l)"
      ],
      "metadata": {
        "id": "L3PAEnCzkwGL"
      },
      "execution_count": null,
      "outputs": []
    },
    {
      "cell_type": "code",
      "source": [
        "sqr=[x*x for x in l]\n",
        "print(sqr)"
      ],
      "metadata": {
        "id": "6aJ6-bVhmdVE"
      },
      "execution_count": null,
      "outputs": []
    },
    {
      "cell_type": "markdown",
      "source": [
        "**#object oriented language (oops)-(lecture-4)**"
      ],
      "metadata": {
        "id": "FPiosRM3IHel"
      }
    },
    {
      "cell_type": "code",
      "source": [
        "class demo:\n",
        "  def greet(self,name,id):#self is mandatory is pointing  to the call of currunt object- keyword\n",
        "    print(\"Hello\",name,\"your id is: \",id)"
      ],
      "metadata": {
        "id": "NJNVmWdmmdXU"
      },
      "execution_count": null,
      "outputs": []
    },
    {
      "cell_type": "code",
      "source": [
        "d=demo()\n",
        "d.greet('diya',2)"
      ],
      "metadata": {
        "id": "g0EmPCDKmdaJ"
      },
      "execution_count": null,
      "outputs": []
    },
    {
      "cell_type": "code",
      "source": [
        "#class is combination data member and member function\n"
      ],
      "metadata": {
        "id": "Pq8KlJ4Hmdc5"
      },
      "execution_count": null,
      "outputs": []
    },
    {
      "cell_type": "code",
      "source": [
        "class human:\n",
        "  def walk(self):\n",
        "    print(\"walking\")\n",
        "  def sing(self):\n",
        "    print(\"singing\")\n",
        "    "
      ],
      "metadata": {
        "id": "ZWZBo32Jmdg2"
      },
      "execution_count": null,
      "outputs": []
    },
    {
      "cell_type": "code",
      "source": [
        "yogesh=human()\n",
        "yogesh.walk()"
      ],
      "metadata": {
        "id": "Xe-x2ensMiMU"
      },
      "execution_count": null,
      "outputs": []
    },
    {
      "cell_type": "code",
      "source": [
        "class calculator:\n",
        "  def __init__(self,a,b):#magic method\n",
        "    self.a=a\n",
        "    self.b=b\n",
        "  def add(self):\n",
        "    print(self.a+self.b)\n",
        "  def sub(self):\n",
        "    print(self.a-self.b)\n",
        "\n",
        "c=calculator(2,3)\n",
        "#c.setdata(2,3)\n",
        "c.add()\n",
        "c.sub()"
      ],
      "metadata": {
        "id": "PM-FLx5kMiOu"
      },
      "execution_count": null,
      "outputs": []
    },
    {
      "cell_type": "code",
      "source": [
        "#constructor\n",
        "class Sample:\n",
        "  def __init__(self):\n",
        "    self.name = \"yogesh kasar\"\n",
        "  def disp(self):\n",
        "    print(self.name)\n",
        "obj=Sample()\n",
        "obj.disp()"
      ],
      "metadata": {
        "id": "Oafd1sBoO9S7"
      },
      "execution_count": null,
      "outputs": []
    },
    {
      "cell_type": "code",
      "source": [
        "#inheritance-single\n",
        "class Parent: \n",
        "  def fun(self):\n",
        "    print(\"This is parent fun\")\n",
        "\n",
        "class child(Parent):\n",
        "  def gun(self):\n",
        "    print(\"This is child gun\")\n",
        "\n",
        "c=child()\n",
        "c.gun()\n",
        "c.fun()\n"
      ],
      "metadata": {
        "id": "diA5kjZDO9Vt"
      },
      "execution_count": null,
      "outputs": []
    },
    {
      "cell_type": "code",
      "source": [
        "#multilevel inheritnace\n",
        "class parent:\n",
        "  def fun(self):\n",
        "    print(\"this is parent fun\")\n",
        "\n",
        "class child(parent):\n",
        "  def gun(self):\n",
        "    print(\"this is child gun\")\n",
        "\n",
        "class gchild(child):\n",
        "  def run(self):\n",
        "    print(\"this is grand child\")\n",
        "\n",
        "c=gchild()\n",
        "c.run()\n",
        "c.gun()\n",
        "c.fun()\n",
        "\n"
      ],
      "metadata": {
        "id": "s0-7EC6VO9fa"
      },
      "execution_count": null,
      "outputs": []
    },
    {
      "cell_type": "code",
      "source": [
        "#multiple inheritance\n",
        "class parent:\n",
        "  def fun(self):\n",
        "    print(\"this is parent fun\")\n",
        "\n",
        "class child():\n",
        "  def gun(self):\n",
        "    print(\"this is child gun\")\n",
        "\n",
        "class gchild(parent,child):\n",
        "  def run(self):\n",
        "    print(\"this is grand child\")\n",
        "\n",
        "c=gchild()\n",
        "c.run()\n",
        "c.gun()\n",
        "c.fun()"
      ],
      "metadata": {
        "id": "rVPnh1NjO9i9"
      },
      "execution_count": null,
      "outputs": []
    },
    {
      "cell_type": "code",
      "source": [
        "#hierarchical inheritance\n",
        "class parent:\n",
        "  def fun(self):\n",
        "    print(\"this is parent fun\")\n",
        "\n",
        "class child():\n",
        "  def gun(self):\n",
        "    print(\"this is child gun\")\n",
        "\n",
        "class gchild(parent,child):\n",
        "  def run(self):\n",
        "    print(\"this is grand child\")\n",
        "\n",
        "c=gchild()\n",
        "c.run()\n",
        "c.gun()\n",
        "c.fun()"
      ],
      "metadata": {
        "id": "6d8au2mIMiTq"
      },
      "execution_count": null,
      "outputs": []
    },
    {
      "cell_type": "code",
      "source": [
        "#abstraction\n",
        "from abc import ABC, abstractmethod\n",
        "\n",
        "class manager(ABC):\n",
        "  @abstractmethod\n",
        "  def fun(self):\n",
        "    \n",
        "    pass\n",
        "  @abstractmethod\n",
        "  def gun(self):\n",
        "    pass\n",
        "class yogesh(manager):\n",
        "  def fun(self):\n",
        "    print(\"this is yogesh fun\")\n",
        "class shubham(yogesh):\n",
        "  def gun(self):\n",
        "    print(\"this is shubham gun\")\n",
        "\n",
        "s=shubham()\n",
        "s.fun()\n",
        "s.gun()"
      ],
      "metadata": {
        "id": "NzNdcAUli_PJ"
      },
      "execution_count": null,
      "outputs": []
    },
    {
      "cell_type": "code",
      "source": [
        "#encapsution\n",
        "class demo:\n",
        "  def __init__(self):\n",
        "    self.a=10    #public data member\n",
        "    self._b=20   #protected data member\n",
        "    self.__c=30  #private data member\n",
        "\n",
        "  def getdata(self):\n",
        "      print(self.__c)\n",
        "\n",
        "d=demo()\n",
        "print(d.a)\n",
        "print(d._b)\n",
        "#print(d.__c)\n",
        "d.getdata()"
      ],
      "metadata": {
        "id": "xM9kiAGZi_UF"
      },
      "execution_count": null,
      "outputs": []
    },
    {
      "cell_type": "code",
      "source": [
        "#polymorphism\n",
        "class parent:\n",
        "  def smartphone(self):\n",
        "    print(\"parents smartphone\")\n",
        "class child(parent):\n",
        "  def laptop(self):\n",
        "    print(\"child laptop\")\n",
        "\n",
        "c=child()\n",
        "c.smartphone()"
      ],
      "metadata": {
        "id": "jdhTwd5Mi_ZB"
      },
      "execution_count": null,
      "outputs": []
    },
    {
      "cell_type": "code",
      "source": [],
      "metadata": {
        "id": "ivZhGb6PMiWi"
      },
      "execution_count": null,
      "outputs": []
    }
  ]
}