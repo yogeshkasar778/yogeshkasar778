{
  "nbformat": 4,
  "nbformat_minor": 0,
  "metadata": {
    "colab": {
      "private_outputs": true,
      "provenance": [],
      "authorship_tag": "ABX9TyMGWgD0HUEiyECaRMdiXEs4",
      "include_colab_link": true
    },
    "kernelspec": {
      "name": "python3",
      "display_name": "Python 3"
    },
    "language_info": {
      "name": "python"
    }
  },
  "cells": [
    {
      "cell_type": "markdown",
      "metadata": {
        "id": "view-in-github",
        "colab_type": "text"
      },
      "source": [
        "<a href=\"https://colab.research.google.com/github/yogeshkasar778/yogeshkasar778/blob/main/OopsConcept.ipynb\" target=\"_parent\"><img src=\"https://colab.research.google.com/assets/colab-badge.svg\" alt=\"Open In Colab\"/></a>"
      ]
    },
    {
      "cell_type": "markdown",
      "source": [
        "#**OOPS**\n",
        " Object-oriented Programming (OOPs) is a programming paradigm that uses objects and classes in programming. \n",
        " It aims to implement real-world entities like inheritance, polymorphisms, encapsulation, etc. in the programming."
      ],
      "metadata": {
        "id": "l0H8s_2lOak5"
      }
    },
    {
      "cell_type": "markdown",
      "source": [
        "#**Class**\n",
        ">Class is a blueprint for an object"
      ],
      "metadata": {
        "id": "POA7RBH6HwWg"
      }
    },
    {
      "cell_type": "markdown",
      "source": [
        "How to create class in python?\n",
        "\n",
        "Syntax:\n",
        "class NameOfClass:\n",
        "     <statement-1>\n",
        "     .\n",
        "     .\n",
        "      <statement-2>"
      ],
      "metadata": {
        "id": "THwmMY09JM3Y"
      }
    },
    {
      "cell_type": "code",
      "execution_count": null,
      "metadata": {
        "id": "KahaSrM-HnEh"
      },
      "outputs": [],
      "source": [
        "class ClassName:\n",
        "  variable=\"i am a class attribute\"\n",
        "  def function(self):\n",
        "    print(\"i am from inside a class\")"
      ]
    },
    {
      "cell_type": "code",
      "source": [
        "ClassName.function"
      ],
      "metadata": {
        "id": "AZJaIk81Idx6"
      },
      "execution_count": null,
      "outputs": []
    },
    {
      "cell_type": "markdown",
      "source": [
        "#**object**"
      ],
      "metadata": {
        "id": "REZcjM6FLyuB"
      }
    },
    {
      "cell_type": "markdown",
      "source": [
        "An Object is an instance of a Class. A class is like a blueprint while an instance is a copy of the class with actual values."
      ],
      "metadata": {
        "id": "VHzWmv6YMKPp"
      }
    },
    {
      "cell_type": "markdown",
      "source": [
        "How to create object in python?"
      ],
      "metadata": {
        "id": "mIvKPvMuJpWv"
      }
    },
    {
      "cell_type": "code",
      "source": [
        "obj1=ClassName()\n",
        "obj1"
      ],
      "metadata": {
        "id": "FETlWRT7Id7o"
      },
      "execution_count": null,
      "outputs": []
    },
    {
      "cell_type": "markdown",
      "source": [
        "How to access class members?"
      ],
      "metadata": {
        "id": "qAoeFctpL4cA"
      }
    },
    {
      "cell_type": "code",
      "source": [
        "obj1=ClassName()\n",
        "obj2=ClassName()\n",
        "#creating new instance attribute for obj2\n",
        "obj2.variable=\"i was just created\"\n",
        "print(obj1.variable)\n",
        "print(obj2.variable)\n",
        "print(ClassName.variable)\n",
        "obj1.function()"
      ],
      "metadata": {
        "id": "_nHUbATfKaJr"
      },
      "execution_count": null,
      "outputs": []
    },
    {
      "cell_type": "markdown",
      "source": [
        "__init__ method in python"
      ],
      "metadata": {
        "id": "iMXbMqdgPKwJ"
      }
    },
    {
      "cell_type": "code",
      "source": [
        "class Student(object):\n",
        "  def __init__(self,name,branch,year):\n",
        "    self.name=name\n",
        "    self.branch=branch\n",
        "    self.year=year\n",
        "    print(\"A student object is created\")\n",
        "\n",
        "  def print_details(self):\n",
        "    print(\"Name:\" ,self.name)\n",
        "    print(\"Branch:\" ,self.branch)\n",
        "    print(\"Year:\" ,self.year)"
      ],
      "metadata": {
        "id": "tkHjr7PRIeA5"
      },
      "execution_count": null,
      "outputs": []
    },
    {
      "cell_type": "code",
      "source": [
        "obj1=Student(\"Yogesh\",\"Mech\",2022)\n",
        "obj1.print_details()"
      ],
      "metadata": {
        "id": "kpLIPRGwIeFg"
      },
      "execution_count": null,
      "outputs": []
    },
    {
      "cell_type": "markdown",
      "source": [
        "#DemoTest"
      ],
      "metadata": {
        "id": "qfMeQm4QUeaA"
      }
    },
    {
      "cell_type": "code",
      "source": [
        "class Dog:\n",
        "  def __init__(self,name):\n",
        "    self.name=name\n",
        "    print(\"Object with name:{} created \".format(name))\n",
        "  def talk(self):\n",
        "    print(\"Woof!\")\n",
        "  def printName(self):\n",
        "    print(\"My name is : {} \".format(self.name))\n",
        "  def __str__(self):\n",
        "    return self.name"
      ],
      "metadata": {
        "id": "q8EBLWe8IeIB"
      },
      "execution_count": null,
      "outputs": []
    },
    {
      "cell_type": "code",
      "source": [
        "tomy=Dog(\"tomy\")\n",
        "bruno=Dog(\"Bruno\")\n",
        "tomy.talk()\n",
        "tomy.printName()\n",
        "bruno.talk()\n",
        "bruno.printName()\n",
        "\n",
        "print(tomy)\n",
        "print(bruno)"
      ],
      "metadata": {
        "id": "kcTgF-BeIeKo"
      },
      "execution_count": null,
      "outputs": []
    },
    {
      "cell_type": "markdown",
      "source": [
        "Q. Create two new vehicles called car1 and car2, set car1 to be a red converible worth 70000.00 with a name of ferrari and car2 to be a blue van names JEEP worth 15000.00"
      ],
      "metadata": {
        "id": "wFTF7tp4YsS5"
      }
    },
    {
      "cell_type": "code",
      "source": [
        "class Vehicle:\n",
        "  def __init__(self,name,color,worth):\n",
        "    self.name=name\n",
        "    self.color=color\n",
        "    self.worth=worth\n",
        "    #print(\"Cars deatils \")\n",
        "    \n",
        "  def details(self):\n",
        "    print(\"Name:\",self.name)\n",
        "    print(\"Color:\",self.color)\n",
        "    print(\"Worth:\", self.worth)\n",
        "\n",
        "     "
      ],
      "metadata": {
        "id": "fVAvlPo0IeQ4"
      },
      "execution_count": null,
      "outputs": []
    },
    {
      "cell_type": "code",
      "source": [
        "\n",
        "print(\"CAR 1 \")\n",
        "car1=Vehicle(\"Ferrari\",\"Red\",7000000)\n",
        "car1.details()\n",
        "print(\"CAR 2 \")\n",
        "car2=Vehicle(\"JEEP\",\"Blue\",1500000)\n",
        "car2.details()"
      ],
      "metadata": {
        "id": "6pZ06FNmZb7T"
      },
      "execution_count": null,
      "outputs": []
    },
    {
      "cell_type": "markdown",
      "source": [
        "magic method"
      ],
      "metadata": {
        "id": "5QUEzmGLamLq"
      }
    },
    {
      "cell_type": "code",
      "source": [
        "class Fruit:\n",
        "  def __init__(self):\n",
        "    print(\" i am a fruit\")\n",
        "class Cirtrus(Fruit):\n",
        "  def __init__(self):\n",
        "    super().__init__()\n",
        "    print(\" i am a cirtus\")\n",
        "lemon=Cirtrus()"
      ],
      "metadata": {
        "id": "sxgXdoMJZb-b"
      },
      "execution_count": null,
      "outputs": []
    },
    {
      "cell_type": "code",
      "source": [
        "class Fruit:\n",
        "  def __len__(self):\n",
        "    return 10\n",
        "print(len(Fruit()))"
      ],
      "metadata": {
        "id": "BZ7rS1yTfIUF"
      },
      "execution_count": null,
      "outputs": []
    },
    {
      "cell_type": "code",
      "source": [
        "class Fruit:\n",
        "  def __str__(self):\n",
        "    return \"i am a fruit\"\n",
        "print(Fruit())"
      ],
      "metadata": {
        "id": "EqpNpn7nfIWu"
      },
      "execution_count": null,
      "outputs": []
    },
    {
      "cell_type": "markdown",
      "source": [
        "#**INHERITANCE**"
      ],
      "metadata": {
        "id": "OhTR9a4Ogi-L"
      }
    },
    {
      "cell_type": "markdown",
      "source": [
        "inheritance  is the capability of one class to inherits the properties from another class"
      ],
      "metadata": {
        "id": "aLZWjdscI-36"
      }
    },
    {
      "cell_type": "markdown",
      "source": [
        "Single inheritance"
      ],
      "metadata": {
        "id": "Y64rQlrpJyfi"
      }
    },
    {
      "cell_type": "code",
      "source": [
        "class Person:\n",
        "  def __init__(self,name):\n",
        "    self.name=name\n",
        "  def sayname(self):\n",
        "    print(self.name)\n",
        "\n",
        "class Engineer(Person):\n",
        "  def __init__(self, name):\n",
        "    super().__init__(name)\n",
        "    self.profession=\"Engineer\"\n",
        "  \n",
        "  def sayprofession(self):\n",
        "    print(self.profession)\n",
        "  "
      ],
      "metadata": {
        "id": "MrIbuoFxfIZX"
      },
      "execution_count": null,
      "outputs": []
    },
    {
      "cell_type": "code",
      "source": [
        "engineer=Engineer(\"Yogesh\")\n",
        "engineer.sayprofession()\n",
        "engineer.sayname()\n",
        "#print(engineer.sayname())\n",
        "#print(engineer.sayprofession())"
      ],
      "metadata": {
        "id": "mwINr3QUfIcT"
      },
      "execution_count": null,
      "outputs": []
    },
    {
      "cell_type": "markdown",
      "source": [
        "Multiple inheritance"
      ],
      "metadata": {
        "id": "ornK0437MQ3K"
      }
    },
    {
      "cell_type": "code",
      "source": [
        "class Person:\n",
        "  def __init__(self,name):\n",
        "    self.name=name\n",
        "  def sayname(self):\n",
        "    print(\"My name is:{}\".format(self.name))\n",
        "    #print(self.name)\n",
        "\n",
        "class Engineer(Person):\n",
        "  def __init__(self, name):\n",
        "    super().__init__(name)\n",
        "    self.profession=\"Engineer\"\n",
        "  \n",
        "  def sayprofession(self):\n",
        "    print(self.profession)\n",
        "\n",
        "class Doctor(Person):\n",
        "  def __init__(self, name):\n",
        "    super().__init__(name)\n",
        "    self.profession=\"Doctor\"\n",
        "  \n",
        "  def sayprofession(self):\n",
        "    print(self.profession)"
      ],
      "metadata": {
        "id": "PLowG_x9ZcBR"
      },
      "execution_count": null,
      "outputs": []
    },
    {
      "cell_type": "code",
      "source": [
        "engineer=Engineer(\"Yogesh\")\n",
        "doctor=Doctor(\"Shubham\")\n",
        "engineer.sayname()\n",
        "engineer.sayprofession()\n",
        "doctor.sayname()\n",
        "doctor.sayprofession()\n"
      ],
      "metadata": {
        "id": "rNGuGTKWMQRl"
      },
      "execution_count": null,
      "outputs": []
    },
    {
      "cell_type": "markdown",
      "source": [
        "Multilevel inheritance"
      ],
      "metadata": {
        "id": "1Cm5u3FXPYoT"
      }
    },
    {
      "cell_type": "code",
      "source": [
        "class A:\n",
        "  def printA(self):\n",
        "    print(\"from A\")\n",
        "class B(A):\n",
        "  def printB(self):\n",
        "    print(\"from B\")\n",
        "class C(B):\n",
        "  def printC(self):\n",
        "    print(\"from C\")"
      ],
      "metadata": {
        "id": "3onSoD96MQUD"
      },
      "execution_count": null,
      "outputs": []
    },
    {
      "cell_type": "code",
      "source": [
        "obj=C()\n",
        "obj.printA()\n",
        "obj.printB()\n",
        "obj.printC()"
      ],
      "metadata": {
        "id": "y920PzOrMQXU"
      },
      "execution_count": null,
      "outputs": []
    },
    {
      "cell_type": "code",
      "source": [
        "class Grandfather:\n",
        "    def __init__(self, grandfathername):\n",
        "        self.grandfathername = grandfathername\n",
        " \n",
        "class Father(Grandfather):\n",
        "    def __init__(self, fathername, grandfathername):\n",
        "        self.fathername = fathername\n",
        "        Grandfather.__init__(self, grandfathername)# invoking constructor of Grandfather class\n",
        "\n",
        "class Son(Father):\n",
        "    def __init__(self, sonname, fathername, grandfathername):\n",
        "        self.sonname = sonname\n",
        "        Father.__init__(self, fathername, grandfathername)# invoking constructor of Father class\n",
        " \n",
        "    def print_name(self):\n",
        "        print('Grandfather name :', self.grandfathername)\n",
        "        print(\"Father name :\", self.fathername)\n",
        "        print(\"Son name :\", self.sonname)\n"
      ],
      "metadata": {
        "id": "96v5B59jRsBF"
      },
      "execution_count": null,
      "outputs": []
    },
    {
      "cell_type": "code",
      "source": [
        "s1 = Son('Yash', 'Yogesh', 'Vivek')\n",
        "print(s1.grandfathername)\n",
        "s1.print_name()"
      ],
      "metadata": {
        "id": "S6eNkwNnSESf"
      },
      "execution_count": null,
      "outputs": []
    },
    {
      "cell_type": "markdown",
      "source": [
        "Hierarchical Inheritance: "
      ],
      "metadata": {
        "id": "nMW2kbxzRk3D"
      }
    },
    {
      "cell_type": "code",
      "source": [
        "class Parent:\n",
        "    def func1(self):\n",
        "        print(\"This function is in parent class.\")\n",
        " \n",
        "class Child1(Parent):\n",
        "    def func2(self):\n",
        "        print(\"This function is in child 1.\")\n",
        "\n",
        "class Child2(Parent):\n",
        "    def func3(self):\n",
        "        print(\"This function is in child 2.\")"
      ],
      "metadata": {
        "id": "KWnqiDqBMQbA"
      },
      "execution_count": null,
      "outputs": []
    },
    {
      "cell_type": "code",
      "source": [
        "object1 = Child1()\n",
        "object2 = Child2()\n",
        "object1.func1()\n",
        "object1.func2()\n",
        "object2.func1()\n",
        "object2.func3()"
      ],
      "metadata": {
        "id": "SLLUUSPQMQeW"
      },
      "execution_count": null,
      "outputs": []
    },
    {
      "cell_type": "markdown",
      "source": [
        "Hybrid inheritance"
      ],
      "metadata": {
        "id": "ySTXb6GMWIjt"
      }
    },
    {
      "cell_type": "code",
      "source": [
        "class School:\n",
        "    def func1(self):\n",
        "        print(\"This function is in school.\")\n",
        "\n",
        "class Student1(School):\n",
        "    def func2(self):\n",
        "        print(\"This function is in student 1. \")\n",
        "\n",
        "class Student2(School):\n",
        "    def func3(self):\n",
        "        print(\"This function is in student 2.\")\n",
        " \n",
        "class Student3(Student1, School):\n",
        "    def func4(self):\n",
        "        print(\"This function is in student 3.\")\n",
        " "
      ],
      "metadata": {
        "id": "P8PMEb88ScLM"
      },
      "execution_count": null,
      "outputs": []
    },
    {
      "cell_type": "code",
      "source": [
        "object = Student3()\n",
        "object.func1()\n",
        "object.func2()"
      ],
      "metadata": {
        "id": "7wzj0eVlScPa"
      },
      "execution_count": null,
      "outputs": []
    },
    {
      "cell_type": "markdown",
      "source": [
        "Overriding "
      ],
      "metadata": {
        "id": "sEozEqnTWdKb"
      }
    },
    {
      "cell_type": "markdown",
      "source": [
        "Overiding is an example of run time polymorphism\n",
        "A child class method overides the parent class method of the same name, same parameter and retrun type"
      ],
      "metadata": {
        "id": "k9ZRAkKOXoXs"
      }
    },
    {
      "cell_type": "code",
      "source": [
        "class Base:\n",
        "  def add(self, a , b):\n",
        "    return a + b\n",
        "class Derived:\n",
        "  def add(self, a , b,c):\n",
        "    return a + b + c "
      ],
      "metadata": {
        "id": "TL5NweFxZVho"
      },
      "execution_count": null,
      "outputs": []
    },
    {
      "cell_type": "code",
      "source": [
        "base=Base()\n",
        "derived=Derived()\n",
        "print(base.add(1,2))\n",
        "print(derived.add(1,2,3))"
      ],
      "metadata": {
        "id": "D-7pBiAUZVXU"
      },
      "execution_count": null,
      "outputs": []
    },
    {
      "cell_type": "code",
      "source": [
        "class A:\n",
        "    def first(self):\n",
        "        print(\"First function of class A\")\n",
        "\n",
        "    def second(self):\n",
        "        print('Second function of class A')\n",
        "\n",
        "class B(A):\n",
        "    # Overriden Function\n",
        "    def first(self):\n",
        "        print(\"Redefined function of class A in class B\")\n",
        "\n",
        "    def display(self):\n",
        "        print('Display Function of Child class')"
      ],
      "metadata": {
        "id": "p_yyw-mTScSU"
      },
      "execution_count": null,
      "outputs": []
    },
    {
      "cell_type": "code",
      "source": [
        "if(__name__ == \"__main__\"):\n",
        "    child_obj = B()\n",
        "    print(\"Method Overriding\\n\")\n",
        "    child_obj.first()\n",
        "    A().first()"
      ],
      "metadata": {
        "id": "O4WhIyw9ScVJ"
      },
      "execution_count": null,
      "outputs": []
    },
    {
      "cell_type": "markdown",
      "source": [
        "Overloading"
      ],
      "metadata": {
        "id": "52cdlaRQaSis"
      }
    },
    {
      "cell_type": "markdown",
      "source": [
        "overloading is an example of complie time polymorphism\n",
        "uisng which we can define two or more method in the same class and same name but with different parameter"
      ],
      "metadata": {
        "id": "kqLCSj5baVaF"
      }
    },
    {
      "cell_type": "code",
      "source": [
        "def add(*args):\n",
        "  if(len(args)==2): return args[0]+args[1]\n",
        "  result = 0\n",
        "\n",
        "  for x in args:\n",
        "    result +=x\n",
        "\n",
        "  return result\n",
        "\n",
        "print(add(1,2,3))\n",
        "print(add(1,2,3,6,4))"
      ],
      "metadata": {
        "id": "y3USEOa9ScZQ"
      },
      "execution_count": null,
      "outputs": []
    },
    {
      "cell_type": "markdown",
      "source": [
        "#**ENCAPSULATION**\n",
        "\n",
        "> Encapsulation is a mechanism of wrapping the data (variables) and code acting on the data (methods) together as a single unit.\n",
        "\n",
        "The data (variables) of a class will be hidden from other classes, and can be accessed only through the methods of their current class.\n",
        "\n",
        "\n",
        "\n"
      ],
      "metadata": {
        "id": "BD5SiXh2Q6_o"
      }
    },
    {
      "cell_type": "code",
      "source": [
        "class SomeClass:\n",
        "  def public(self):#public function\n",
        "    print(\"public function\")\n",
        "\n",
        "  def __private(self):#private member using double underscore(\"__\")\n",
        "    print(\"private function\")"
      ],
      "metadata": {
        "id": "ubwtmKn-ORdC"
      },
      "execution_count": null,
      "outputs": []
    },
    {
      "cell_type": "code",
      "source": [
        "obj=SomeClass()\n",
        "obj.public()\n",
        "obj._SomeClass__private()"
      ],
      "metadata": {
        "id": "zO1fl7hNORgZ"
      },
      "execution_count": null,
      "outputs": []
    },
    {
      "cell_type": "code",
      "source": [
        "class Account:\n",
        "  def __init__(self):\n",
        "    self.setBalance(10)\n",
        "  def setBalance(self,balance):\n",
        "    self.__balance=balance\n",
        "  def getBalance(self):\n",
        "    print(self.__balance)"
      ],
      "metadata": {
        "id": "u-bL8AoWORjW"
      },
      "execution_count": null,
      "outputs": []
    },
    {
      "cell_type": "code",
      "source": [
        "obj=Account()\n",
        "obj.getBalance()\n",
        "obj.setBalance(20)\n",
        "obj.getBalance()"
      ],
      "metadata": {
        "id": "VCJ7ILm-ORmA"
      },
      "execution_count": null,
      "outputs": []
    },
    {
      "cell_type": "markdown",
      "source": [
        "#**POLYMORPHISM**"
      ],
      "metadata": {
        "id": "9IGuwqzBZYjI"
      }
    },
    {
      "cell_type": "markdown",
      "source": [
        "If one task is performed in different wa knowm as polymorphism.\n",
        "There are two types:\n",
        "1.run-time poly.\n",
        "2.complie time poly."
      ],
      "metadata": {
        "id": "Z83PJc6sZjUQ"
      }
    },
    {
      "cell_type": "code",
      "source": [
        "class Worker:\n",
        "  def work(self):\n",
        "    print(\"Working\")\n",
        "\n",
        "  def perfrom_task(self):\n",
        "    print(\"Performing task:\",end='')\n",
        "    self.work()\n",
        "    \n",
        "class DeliveryMan(Worker):\n",
        "  def work(self):\n",
        "    print(\"Delivery is good\")\n",
        "\n",
        "class LumberJack(Worker):\n",
        "  def work(self):\n",
        "    print(\"Cutting woods is good\")"
      ],
      "metadata": {
        "id": "ceNHj568ORnz"
      },
      "execution_count": null,
      "outputs": []
    },
    {
      "cell_type": "code",
      "source": [
        "deliveryman=DeliveryMan()\n",
        "lumberjack=LumberJack()\n",
        "deliveryman.perfrom_task()\n",
        "lumberjack.perfrom_task()"
      ],
      "metadata": {
        "id": "rk5F-ZrcORqZ"
      },
      "execution_count": null,
      "outputs": []
    },
    {
      "cell_type": "code",
      "source": [],
      "metadata": {
        "id": "L7PpF6OsORs7"
      },
      "execution_count": null,
      "outputs": []
    }
  ]
}